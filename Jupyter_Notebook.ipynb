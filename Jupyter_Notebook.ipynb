{
 "cells": [
  {
   "cell_type": "markdown",
   "metadata": {},
   "source": [
    "# My Jupyter Notebook on IBM Watson Studio\n"
   ]
  },
  {
   "cell_type": "markdown",
   "metadata": {},
   "source": [
    "## **José Wellington de Almeida Silva**\n",
    "### Data Scientist"
   ]
  },
  {
   "cell_type": "markdown",
   "metadata": {},
   "source": [
    "#### *I'm interested in data science because I'm a crypto trader and when I realise that I could use data to improve my results I immediately searched about it and since then I'm using data to solve cryptocurrency market problems.*"
   ]
  },
  {
   "cell_type": "markdown",
   "metadata": {},
   "source": [
    "### The code below defynes and execute a function to calculate the standart deviation of a list of values"
   ]
  },
  {
   "cell_type": "code",
   "execution_count": 2,
   "metadata": {},
   "outputs": [
    {
     "name": "stdout",
     "output_type": "stream",
     "text": [
      "The standart deviation of X is:  157.68\n"
     ]
    }
   ],
   "source": [
    "def sd(x):\n",
    "    #fiding the mean of the list\n",
    "    m=0\n",
    "    suma=0\n",
    "    for i in x:\n",
    "        suma=suma+i\n",
    "        m=m+1\n",
    "    meaan=suma/m\n",
    "    #find the distance from each data point to \n",
    "    #the mean and square each of those distances and sum this values into sq_dst\n",
    "    sq_dst=0\n",
    "    for i in x:\n",
    "        dst=i-meaan\n",
    "        sq_dst=sq_dst+(dst**2)\n",
    "    #counting the number of elements in list\n",
    "    leng=0\n",
    "    for i in x:\n",
    "        leng=leng+1\n",
    "    #dividing sq_dst by leng\n",
    "    almost_sd = sq_dst/leng\n",
    "    #fiding standart deviation\n",
    "    stand_devi=almost_sd**0.5\n",
    "    return(stand_devi)\n",
    "\n",
    "x = [23,42,52,13,86,21,232,521,1,342,245,245]\n",
    "\n",
    "print(\"The standart deviation of X is: \",round(sd(x),2))"
   ]
  },
  {
   "cell_type": "markdown",
   "metadata": {},
   "source": [
    "### Below you can find more about my work\n",
    "\n",
    "|[Kaggle](https://www.kaggle.com/gatunnopvp)|\n",
    "|[Github](https://github.com/WellingtonSilv)|\n",
    "|[Linkedin](https://www.linkedin.com/in/jwellingtonsilva/)|\n",
    "\n",
    "#### You can access one of my first comercial projects below\n",
    "##### *This project is basicly a shiny dashboard that contains 3 simple tecnichal analysis trading models and a full implementation of Long & Short by cointegration model*\n",
    "##### *To access you need to insert login and password on the dashboard below*\n",
    "\n",
    "##### *Login: IBM_course_user*\n",
    "##### *Password: 36aY!nFdkg*\n",
    "\n",
    "|[Dashboard](https://wstradervip.shinyapps.io/dashboard/)|\n",
    "\n",
    "![alt text](https://secureservercdn.net/45.40.148.147/u8s.636.myftpupload.com/wp-content/uploads/2020/06/cropped-wstrader-logo.png?time=1660077801)"
   ]
  }
 ],
 "metadata": {
  "kernelspec": {
   "display_name": "Python",
   "language": "python",
   "name": "conda-env-python-py"
  },
  "language_info": {
   "codemirror_mode": {
    "name": "ipython",
    "version": 3
   },
   "file_extension": ".py",
   "mimetype": "text/x-python",
   "name": "python",
   "nbconvert_exporter": "python",
   "pygments_lexer": "ipython3",
   "version": "3.7.12"
  }
 },
 "nbformat": 4,
 "nbformat_minor": 4
}
